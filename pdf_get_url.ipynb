{
 "cells": [
  {
   "cell_type": "code",
   "execution_count": 4,
   "metadata": {},
   "outputs": [],
   "source": [
    "from supabase import create_client, Client\n",
    "import streamlit as st"
   ]
  },
  {
   "cell_type": "code",
   "execution_count": 5,
   "metadata": {},
   "outputs": [],
   "source": [
    "def init_supabase():\n",
    "    \"\"\"\n",
    "    Initialize Supbase Client using Streamlit\n",
    "    \"\"\"\n",
    "    url = st.secrets[\"SUPABASE_URL\"]\n",
    "    key = st.secrets[\"SERVICE_ROW\"]\n",
    "    supbase: Client = create_client(url, key)\n",
    "    return supbase"
   ]
  },
  {
   "cell_type": "code",
   "execution_count": 6,
   "metadata": {},
   "outputs": [],
   "source": [
    "supabase = init_supabase()"
   ]
  },
  {
   "cell_type": "code",
   "execution_count": 7,
   "metadata": {},
   "outputs": [],
   "source": [
    "public_url = supabase.storage.from_('completed_consent').get_public_url('case_pdf_received/Wok_Let_34232342_f6035dee.pdf')"
   ]
  },
  {
   "cell_type": "code",
   "execution_count": 9,
   "metadata": {},
   "outputs": [
    {
     "name": "stdout",
     "output_type": "stream",
     "text": [
      "https://xlkuiiguzpwvnjlkluck.supabase.co/storage/v1/object/public/completed_consent/case_pdf_received/Wok_Let_34232342_f6035dee.pdf?\n"
     ]
    }
   ],
   "source": [
    "print(public_url)"
   ]
  },
  {
   "cell_type": "code",
   "execution_count": null,
   "metadata": {},
   "outputs": [],
   "source": []
  }
 ],
 "metadata": {
  "kernelspec": {
   "display_name": "Python 3",
   "language": "python",
   "name": "python3"
  },
  "language_info": {
   "codemirror_mode": {
    "name": "ipython",
    "version": 3
   },
   "file_extension": ".py",
   "mimetype": "text/x-python",
   "name": "python",
   "nbconvert_exporter": "python",
   "pygments_lexer": "ipython3",
   "version": "3.11.9"
  }
 },
 "nbformat": 4,
 "nbformat_minor": 2
}
